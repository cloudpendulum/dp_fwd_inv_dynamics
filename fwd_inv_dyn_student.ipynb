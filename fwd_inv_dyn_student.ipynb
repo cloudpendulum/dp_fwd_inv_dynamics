{
 "cells": [
  {
   "cell_type": "markdown",
   "metadata": {},
   "source": [
    "# Tutorial 1: Forward and Inverse dynamics of a double pendulum\n",
    "In this tutorial we will look at the dynamics of double pendulums, their properties, and some simple ways of exploiting them.\n",
    "\n",
    "\n",
    "**Pre-requisites**\n",
    "\n",
    "Knowledge of kinematic and dynamic models of simple robots and basic knowledge of integration schemes.\n",
    "\n",
    "**Goals**\n",
    "\n",
    "Exploring the modelling the dynamics of a double pendulum.\n",
    "\n",
    "This notebook is organized as follows:\n",
    "\n",
    "    1. Recap: Lagrangian Derivation of Equations of Motion (EOM)\n",
    "    2. Implement the solution to the Forward and Inverse Dynamics\n",
    "    3. Simulation using forward dynamics\n",
    "    4. Gravity Compensation Control and Feedforward Control using Inverse Dynamics\n",
    "\n",
    "Run the next cell to make sure you have all the necessary dependencies installed."
   ]
  },
  {
   "cell_type": "code",
   "execution_count": null,
   "metadata": {
    "cell_id": "645e5d903eca47d1968f581882444e69",
    "deepnote_cell_type": "code",
    "deepnote_to_be_reexecuted": false,
    "execution_context_id": "a63af86c-3ddd-43e4-af8b-ad3a81a11226",
    "execution_millis": 3799,
    "execution_start": 1749475327817,
    "source_hash": "abc1fc37"
   },
   "outputs": [],
   "source": [
    "# install dependencies\n",
    "!pip install -r requirements.txt"
   ]
  },
  {
   "cell_type": "code",
   "execution_count": null,
   "metadata": {
    "cell_id": "45bbada53904495c94226d34a770ac0d",
    "deepnote_cell_type": "code",
    "deepnote_to_be_reexecuted": false,
    "execution_context_id": "a63af86c-3ddd-43e4-af8b-ad3a81a11226",
    "execution_millis": 5470,
    "execution_start": 1749475335938,
    "source_hash": "d6f0a33f"
   },
   "outputs": [],
   "source": [
    "# imports\n",
    "import numpy as np\n",
    "import pandas as pd\n",
    "\n",
    "from double_pendulum.model.plant import DoublePendulumPlant\n",
    "from double_pendulum.simulation.simulation import Simulator\n",
    "from double_pendulum.utils.plotting import plot_timeseries\n",
    "\n",
    "%matplotlib inline\n",
    "from IPython.display import HTML\n",
    "import matplotlib as mpl\n",
    "mpl.rcParams['animation.writer'] = \"pillow\"\n",
    "import matplotlib.pyplot as plt\n",
    "\n",
    "#from matplotlib import animation"
   ]
  },
  {
   "cell_type": "markdown",
   "metadata": {
    "cell_id": "972bdd71306d4bd786e14d47756e3efa",
    "deepnote_cell_type": "image",
    "deepnote_img_src": "double_pendulum_coords.png",
    "deepnote_img_width": "50%"
   },
   "source": [
    "<img src=\"double_pendulum_coords.png\" width=\"50%\" align=\"\" />"
   ]
  },
  {
   "cell_type": "markdown",
   "metadata": {
    "cell_id": "dd8461907d3842d6aed5f101b161c2db",
    "deepnote_cell_type": "markdown"
   },
   "source": [
    "### System Description"
   ]
  },
  {
   "cell_type": "markdown",
   "metadata": {
    "cell_id": "05b8d01994114f06a7543edbbb220abe",
    "deepnote_cell_type": "markdown"
   },
   "source": [
    "Our double pendulum has the following system parameters:\n",
    "\n",
    "- Masses $m_1$ and $m_2$\n",
    "- Lengths $l_1$ and $l_2$\n",
    "- Center of masses $r_1$ and $r_2$\n",
    "- Inertias $I_1$ and $I_2$\n",
    "- Damping \n",
    "\n",
    "Additionally, gravity $g$ acts on the masses.\n",
    "\n",
    "All in SI units.\n",
    "\n",
    "The following parameters have been approximated using a system identification algorithm. Make sure to replace the motor ids in the first line of the next cell with your own to be able to run experiments on the real hardware."
   ]
  },
  {
   "cell_type": "code",
   "execution_count": null,
   "metadata": {
    "cell_id": "9411d3245ca14c4699839167e6726064",
    "deepnote_cell_type": "code",
    "deepnote_to_be_reexecuted": false,
    "execution_context_id": "a63af86c-3ddd-43e4-af8b-ad3a81a11226",
    "execution_millis": 1,
    "execution_start": 1749475353047,
    "source_hash": "df233953"
   },
   "outputs": [],
   "source": [
    "motors = [403, 379] # REPLACE WITH YOUR MOTOR IDS [SHOULDER, ELBOW]\n",
    "mass = [0.10548177618443695, 0.07619744360415454]\n",
    "length = [0.05, 0.05] \n",
    "com = [0.05, 0.03670036749567022]\n",
    "inertia = [0.00046166221821039165, 0.00023702395072092597]\n",
    "damping = [7.634058385430087e-12, 0.0005106535523065844]\n",
    "#torque_limit = [np.inf, np.inf]\n",
    "gravity = 9.81\n",
    "torque_limit = [0.15, 0.15]\n",
    "coulomb_fric = [0.00305,0.0007777]\n",
    "x0 = [0.0, 0.0, 0.0, 0.0] "
   ]
  },
  {
   "cell_type": "markdown",
   "metadata": {
    "cell_id": "401da3bb318e47ffa10c009f620b12fe",
    "deepnote_cell_type": "markdown"
   },
   "source": [
    "## 1. Recap: Lagrangian Derivation of Equations of Motion (EOM)\n",
    "\n",
    "The manipulator equation describes the inverse dynamics of the double pendulum\n",
    "\n",
    "$$ M(\\mathbf{q})\\ddot{\\mathbf{q}} + C(\\mathbf{q}, \\dot{\\mathbf{q}})\\dot{\\mathbf{q}} + G(\\mathbf{q}) +F(\\dot{\\mathbf{q}}) = \\mathbf{\\tau} $$\n",
    "\n",
    "with the vectors\n",
    "\n",
    "$$ \\mathbf{q} = (q_1, q_2)^T, \\; \\mathbf{x} = (\\mathbf{q}, \\dot{\\mathbf{q}})^T, \\; \\mathbf{\\tau} = (\\tau_1, \\tau_2)^T $$\n",
    "\n",
    "We can obtain the terms of this equation using the Lagrangian Derivation. First, we calculate the potential ($V$) and kinetic ($K$) energies of the system as a function of its state. Their difference is the Lagrangian:\n",
    "\n",
    "$$\n",
    "L = K-V\n",
    "$$\n",
    "\n",
    "The Euler-Lagrange equations can be used to derive the Equations of Motion (EOM) of the system:\n",
    "$$\n",
    "\\frac{d}{dt}\\frac{\\partial L}{\\partial \\dot{\\mathbf{q}}} - \\frac{\\partial L}{\\partial \\mathbf{q}} = \\tau\n",
    "$$\n",
    "\n",
    "The terms of the manipulator equation can then be isolated. The mass matrix is given by (with $s_1 = \\sin(q_1), c_1 = \\cos(q_1), \\ldots$):\n",
    "$$\n",
    "  M =\n",
    "    \\left[ {\\begin{array}{cc}\n",
    "          I_1 + I_2 + l_1^2m_2 + 2l_1m_2r_2c_2 + g_r^2I_r + I_r &   I_2 + l_1m_2r_2c_2 \\\\\n",
    "          I_2 + l_1m_2r_2c_2 &   I_2 \\\\\n",
    "    \\end{array}} \\right]\n",
    "$$\n",
    "\n",
    "The Coriolis Matrix is:\n",
    "$$\n",
    "    C =\n",
    "    \\left[\\begin{matrix}\n",
    "    - 2 \\dot{q}_2 l_{1} m_{2} r_{2} s_2 & - \\dot{q}_2 l_{1} m_{2} r_{2} s_2\\\\\n",
    "    \\dot{q}_1 l_{1} m_{2} r_{2} s_2 &   0\n",
    "    \\end{matrix}\\right]\n",
    "$$\n",
    "\n",
    "and the gravity vector:\n",
    "$$\n",
    "    G =\n",
    "    \\left[\\begin{matrix}\n",
    "    - g m_{1} r_{1} s_1 - g m_{2} \\left(l_{1}\n",
    "s_1 + r_{2} s_{1+2} \\right)\\\\\n",
    "    - g m_{2} r_{2} s_{1+2}\n",
    "    \\end{matrix}\\right]\n",
    "$$\n",
    "\n",
    "and the friction term:\n",
    "$$\n",
    "    F = \n",
    "    \\left[\\begin{matrix}\n",
    "    b \\dot{q}_1 + \\mu \\arctan(100 \\dot{q}_1)\\\\\n",
    "    b \\dot{q}_2 + \\mu \\arctan(100 \\dot{q}_2)\n",
    "    \\end{matrix}\\right]\n",
    "$$\n",
    "#### Equilibrium points\n",
    "\n",
    "An equilibrium point is that in which the system will remain if it is undisturbed. For our system, this means that the joint velocities and accelerations must stay at zero. For this assesment we will also assume negligible function. We can plug this information into the EOM to find these configurations:\n",
    "\n",
    "$$\n",
    "G(\\mathbf{q}) = 0\n",
    "$$\n",
    "\n",
    "The result is four equilibrium points. The joint coordinates at these points are:\n",
    "\n",
    "- $(0,0)$\n",
    "- $(\\pi,0)$\n",
    "- $(0,\\pi)$\n",
    "- $(\\pi,\\pi)$\n",
    "\n",
    "Note that only the first point in the list is stable, meaning that, for the other ones, even a minimal disturbance will eventually drive them away from the equilibrium point."
   ]
  },
  {
   "cell_type": "markdown",
   "metadata": {},
   "source": [
    "## 2. Implementation of the solution to the Forward and Inverse Dynamics\n",
    "\n",
    "For our simulations, as well as some control strategies, we will need to include the knowledge of the system dynamics in the pendulum plant. Complete the following function, which will provide the inverse dynamics of the system. Remember that the solution to the inverse dynamics problem provides the torque that needs to be provided to achieve a set acceleration. Be careful to include the contribution of the friction, which acts directly on the joints."
   ]
  },
  {
   "cell_type": "code",
   "execution_count": null,
   "metadata": {},
   "outputs": [],
   "source": [
    "def inverse_dynamics(self, x, acc):\n",
    "\n",
    "    M = self.mass_matrix(x)\n",
    "    C = self.coriolis_matrix(x)\n",
    "    G = self.gravity_vector(x)\n",
    "    F = self.coulomb_vector(x)\n",
    "\n",
    "    ## Type here!\n",
    "    \n",
    "    tau = np.zeros([2,])\n",
    "    \n",
    "    ##\n",
    "    \n",
    "    return tau\n",
    "\n",
    "DoublePendulumPlant.inverse_dynamics = inverse_dynamics"
   ]
  },
  {
   "cell_type": "markdown",
   "metadata": {},
   "source": [
    "Now, do the same for the forward dynamics, which provide the acceleration with which a system responds to a torque input. This function is also used for the simulation of the double pendulum. Complete it so that we can use it to predict the evolution of the system."
   ]
  },
  {
   "cell_type": "code",
   "execution_count": null,
   "metadata": {},
   "outputs": [],
   "source": [
    "def forward_dynamics(self, x, tau):\n",
    "    # pos = np.copy(x[:self.dof])\n",
    "    vel = np.copy(x[self.dof :])\n",
    "\n",
    "    M = self.mass_matrix(x)\n",
    "    C = self.coriolis_matrix(x)\n",
    "    G = self.gravity_vector(x)\n",
    "    F = self.coulomb_vector(x)\n",
    "\n",
    "    ## Type here!\n",
    "    \n",
    "    accn = np.zeros([2,])\n",
    "    \n",
    "    ##\n",
    "    return accn\n",
    "\n",
    "DoublePendulumPlant.forward_dynamics = forward_dynamics"
   ]
  },
  {
   "cell_type": "markdown",
   "metadata": {},
   "source": [
    "## 3. Simulation using forward dynamics\n",
    "\n",
    "To simulate the system forward in time, we have the system dynamics in the following form:\n",
    "\n",
    "$$\n",
    "\\dot{\\mathbf{x}} = \\mathbf{f}(\\mathbf{x}, \\mathbf{u})\n",
    "$$\n",
    "\n",
    "where $\\mathbf{x}$ and $\\mathbf{u}$ are the state and the input, respectively. In the previous expression, $\\mathbf{f}$ is the forward dynamics function. Note that what we have is a first-order ODE.\n",
    "To simulate the system we require a relation that can approximate the following:\n",
    "\n",
    "$$\n",
    "\\mathbf{x_{i+1}} = \\mathbf{x_{i}} + \\int_{t_0}^{t_f} \\mathbf{f}(\\mathbf{x_{i}}, \\mathbf{u_{i}}) dt\n",
    "$$\n",
    "\n",
    "For this, we will use a numerical integration scheme. With it, we will predict the state at the next instant, $\\mathbf{x_{i+1}}$, as a function of the state at the current instant, $\\mathbf{x_{i}}$, the time passed between the two, $h$, and the current control input, $\\mathbf{u_i}$.\n",
    "\n",
    "One extremely simple numerical integration scheme is the Forward Euler Method.\n",
    "\n",
    "$$\n",
    "\\mathbf{x_{i+1}} = \\mathbf{x_i} + h\\mathbf{f}(\\mathbf{x_i}, \\mathbf{u_i})\n",
    "$$\n",
    "\n",
    "Implement the Forward Euler Method in the next cell to complete the simulation:"
   ]
  },
  {
   "cell_type": "code",
   "execution_count": null,
   "metadata": {},
   "outputs": [],
   "source": [
    "def euler_scheme(self, t, x, h, u):\n",
    "\n",
    "    f = self.plant.rhs(t,x,u)\n",
    "    ## Type here!\n",
    "    xnew = np.zeros([4,])\n",
    "    ##\n",
    "    return xnew\n",
    "\n",
    "Simulator.euler_scheme = euler_scheme"
   ]
  },
  {
   "cell_type": "markdown",
   "metadata": {},
   "source": [
    "Run the next cell to create an instance of the *DoublePendulumPlant* class and an instance of the *Simulator* class. The double pendulum is created using the parameters defined earlier. After instantiating the double pendulum plant, it is used to instantiate the simulator class. If everything is correctly set up, after a few seconds, you should see an animation of the double pendulum swinging without external power."
   ]
  },
  {
   "cell_type": "code",
   "execution_count": null,
   "metadata": {},
   "outputs": [],
   "source": [
    "dt = 0.002\n",
    "t_final = 10.0\n",
    "x0 = [np.pi / 2.0, -np.pi / 2.0, 0.0, 0.0]\n",
    "\n",
    "plant = DoublePendulumPlant(\n",
    "    mass=mass,\n",
    "    length=length,\n",
    "    com=com,\n",
    "    gravity=gravity,\n",
    "    inertia=inertia,\n",
    "    damping=damping,\n",
    "    torque_limit=torque_limit,\n",
    "    coulomb_fric=coulomb_fric\n",
    ")\n",
    "\n",
    "sim = Simulator(plant=plant)\n",
    "\n",
    "T, X, U, anim = sim.simulate_and_animate(\n",
    "    t0=0.0,\n",
    "    x0=x0,\n",
    "    tf=t_final,\n",
    "    dt=dt,\n",
    "    controller=None,\n",
    "    integrator=\"euler\",\n",
    ")\n",
    "\n",
    "html = HTML(anim.to_jshtml())\n",
    "display(html)\n",
    "plt.close()"
   ]
  },
  {
   "cell_type": "markdown",
   "metadata": {},
   "source": [
    "Let's see how accurate this simulation is. To connect to the real pendulum, run the next cell. Only run the next cell once."
   ]
  },
  {
   "cell_type": "markdown",
   "metadata": {},
   "source": [
    "When you run the next cell, lift the pendulum and let it fall. Once you are not touching it anymore, press enter. The result should be a simulation and the evolution of the real system from the same initial conditions."
   ]
  },
  {
   "cell_type": "code",
   "execution_count": null,
   "metadata": {},
   "outputs": [],
   "source": [
    "Treal, Xreal, Ureal, U_desreal = sim.run_experiment(\n",
    "    tf=t_final,\n",
    "    dt=dt,\n",
    "    controller=None,\n",
    "    experiment_type=\"DoublePendulum\",\n",
    "    motors = motors # [shoulder, elbow],\n",
    ")\n",
    "\n",
    "x_init = Xreal[0].copy()\n",
    "Tsim, Xsim, Usim = sim.simulate(\n",
    "    t0=0.0,\n",
    "    x0=x_init,\n",
    "    tf=t_final,\n",
    "    dt=dt,\n",
    "    controller=None,\n",
    "    integrator=\"runge_kutta\",\n",
    ")\n",
    "\n",
    "plot_timeseries(\n",
    "    T=Tsim,\n",
    "    X=Xsim,\n",
    "    U=Usim,\n",
    "    T_des=Treal,\n",
    "    X_des=Xreal,\n",
    "    U_des=Ureal,\n",
    "    pos_y_lines=[0.0, np.pi],\n",
    "    tau_y_lines=[-torque_limit[1], torque_limit[1]],\n",
    ")"
   ]
  },
  {
   "cell_type": "markdown",
   "metadata": {},
   "source": [
    "Is the simulation accurate? What can you observe about the nature of the system from the comparison?"
   ]
  },
  {
   "cell_type": "markdown",
   "metadata": {},
   "source": [
    "#### PD control\n",
    "\n",
    "To further test our simulation and hardware, we will introduce a PD controller. This controller provides an input that drives the system to minimize the error with respect to a setpoint. It generally takes the shape of the following control law:\n",
    "\n",
    "$$\n",
    "u(t) = -\\left[ \\begin{array}{cc} K_p & K_d\\end{array}\\right] \\mathbf{\\bar{x}}\n",
    "$$\n",
    "\n",
    "where $\\mathbf{\\bar{x}}$ is the difference between our setpoint and our current state. The next cell imports and creates the instance of a PID controller class. It also defines the setpoint and the gains of the controller. To turn it into a PD, we simply get rid of the integral term."
   ]
  },
  {
   "cell_type": "code",
   "execution_count": null,
   "metadata": {},
   "outputs": [],
   "source": [
    "from double_pendulum.controller.pid.point_pid_controller import PointPIDController\n",
    "\n",
    "x0 = [0.0, 0.0, 0.0, 0.0]                                                                                                                                                              \n",
    "goal = [np.pi, 0.0, 0.0, 0.0]\n",
    "torque_limit = [0.15, 0.15]\n",
    "\n",
    "Kp = 0.14\n",
    "Kd = 0.002\n",
    "\n",
    "pid_controller = PointPIDController(torque_limit=torque_limit, dt=dt)\n",
    "pid_controller.set_parameters(Kp=Kp, Ki=0, Kd=Kd)\n",
    "pid_controller.set_goal(goal)\n",
    "pid_controller.init()"
   ]
  },
  {
   "cell_type": "markdown",
   "metadata": {},
   "source": [
    "Run the next cell to simulate the controller on the double pendulum."
   ]
  },
  {
   "cell_type": "code",
   "execution_count": null,
   "metadata": {},
   "outputs": [],
   "source": [
    "sim.reset()\n",
    "T, X, U, anim = sim.simulate_and_animate(\n",
    "    t0=0.0,\n",
    "    x0=x0,\n",
    "    tf=t_final,\n",
    "    dt=dt,\n",
    "    controller=pid_controller,\n",
    "    integrator=\"runge_kutta\",\n",
    ")\n",
    "\n",
    "html = HTML(anim.to_jshtml())\n",
    "display(html)\n",
    "plt.close()\n",
    "\n",
    "plot_timeseries(\n",
    "    T,\n",
    "    X,\n",
    "    U,\n",
    "    pos_y_lines=[0.0, np.pi],\n",
    "    tau_y_lines=[-torque_limit[1], torque_limit[1]],\n",
    ")"
   ]
  },
  {
   "cell_type": "markdown",
   "metadata": {},
   "source": [
    "Now, if the simulation worked, you may try this controller on the real system. While connected to the real pendulum, run the cell below to start the experiment. Try to induce disturbances by pushing it and see how the system reacts. You may also update the gains $K_p$ and $K_d$ to tune the controller."
   ]
  },
  {
   "cell_type": "code",
   "execution_count": null,
   "metadata": {},
   "outputs": [],
   "source": [
    "T, X, U, U_des = sim.run_experiment(\n",
    "    tf=t_final,\n",
    "    dt=dt,\n",
    "    controller=pid_controller,\n",
    "    experiment_type=\"DoublePendulum\",\n",
    "    motors = motors # [shoulder, elbow],\n",
    ")\n",
    "\n",
    "plot_timeseries(\n",
    "    T=T,\n",
    "    X=X,\n",
    "    U=U,\n",
    "    T_des=T,\n",
    "    U_des=U_des,\n",
    "    pos_y_lines=[0.0, np.pi],\n",
    "    tau_y_lines=[-torque_limit[1], torque_limit[1]],\n",
    ")"
   ]
  },
  {
   "cell_type": "markdown",
   "metadata": {
    "cell_id": "3919b0a49fb2492292837fa9011a2d56",
    "deepnote_cell_type": "markdown"
   },
   "source": [
    "## 4. Gravity Compensation Control and Feedforward Control using Inverse Dynamics\n",
    "\n",
    "#### Gravity Compensation\n",
    "\n",
    "The knowledge of the dynamics of the double pendulum allows us to create controllers that compute the torque needed to achieve certain motions. One of these controllers is the gravity compensation controller. The goal of this controller is to maintain the position of the pendulum by counteracting gravity.\n",
    "\n",
    "This can be achieved by providing the following torque:\n",
    "\n",
    "$$\n",
    "\\tau(\\mathbf{x}) = G(\\mathbf{q})\n",
    "$$\n",
    "\n",
    "So that the EOM are left as $M(\\mathbf{q})\\ddot{\\mathbf{q}} + C(\\mathbf{q}, \\dot{\\mathbf{q}})\\dot{\\mathbf{q}} = 0$ $\\rightarrow$ System without forces\n",
    "\n",
    "Complete the *GravityCompensationController* class so that this effect is achieved:"
   ]
  },
  {
   "cell_type": "code",
   "execution_count": null,
   "metadata": {
    "cell_id": "b49d9ac7f7e548e9804aeeee7cffb2f5",
    "deepnote_cell_type": "code",
    "deepnote_to_be_reexecuted": false,
    "execution_millis": 43,
    "execution_start": 1719491548181,
    "source_hash": null
   },
   "outputs": [],
   "source": [
    "from double_pendulum.controller.abstract_controller import AbstractController\n",
    "\n",
    "class GravityCompensationController(AbstractController):\n",
    "    def __init__(\n",
    "        self,\n",
    "        mass=[0.5, 0.6],\n",
    "        length=[0.3, 0.2],\n",
    "        com=[0.3, 0.2],\n",
    "        damping=[0.1, 0.1],\n",
    "        coulomb_fric=[0.0, 0.0],\n",
    "        gravity=9.81,\n",
    "        inertia=[None, None],\n",
    "        torque_limit=[0.0, 1.0],\n",
    "    ):\n",
    "        self.mass = mass\n",
    "        self.length = length\n",
    "        self.com = com\n",
    "        self.damping = damping\n",
    "        self.cfric = coulomb_fric\n",
    "        self.gravity = gravity\n",
    "        self.inertia = inertia\n",
    "        self.torque_limit = torque_limit\n",
    "\n",
    "        self.plant = DoublePendulumPlant(\n",
    "            mass=self.mass,\n",
    "            length=self.length,\n",
    "            com=self.com,\n",
    "            damping=self.damping,\n",
    "            gravity=self.gravity,\n",
    "            coulomb_fric=self.cfric,\n",
    "            inertia=self.inertia,\n",
    "            torque_limit=self.torque_limit,\n",
    "        )\n",
    "\n",
    "    def get_control_output(self, x, t=None):\n",
    "        g = self.plant.gravity_vector(x)\n",
    "\n",
    "        ## Type here!\n",
    "        u = np.zeros([2,])\n",
    "        ##\n",
    "\n",
    "        # Limits on allowed torque, do not modify\n",
    "        u[0] = np.clip(u[0], -self.torque_limit[0], self.torque_limit[0]) \n",
    "        u[1] = np.clip(u[1], -self.torque_limit[1], self.torque_limit[1])\n",
    "        \n",
    "        return u"
   ]
  },
  {
   "cell_type": "markdown",
   "metadata": {
    "cell_id": "88a860c1a4854f818349d36239195b22",
    "deepnote_cell_type": "code",
    "deepnote_to_be_reexecuted": false,
    "execution_millis": 33,
    "execution_start": 1719491852741,
    "source_hash": null
   },
   "source": [
    "Now, create an instance of the controller class and test it in a simulation."
   ]
  },
  {
   "cell_type": "code",
   "execution_count": null,
   "metadata": {
    "cell_id": "9e2829e111b94092bf001657aacad86d",
    "deepnote_cell_type": "code",
    "deepnote_to_be_reexecuted": false,
    "execution_millis": 19032,
    "execution_start": 1719491855966,
    "source_hash": null
   },
   "outputs": [],
   "source": [
    "gravcomp_controller = GravityCompensationController(\n",
    "    mass=[mass[0], mass[1]],\n",
    "    length=length,\n",
    "    com=com,\n",
    "    damping=damping,\n",
    "    gravity=gravity,\n",
    "    inertia=inertia,\n",
    "    torque_limit=torque_limit,\n",
    ")\n",
    "\n",
    "x0 = [np.pi / 2.0, np.pi / 4.0, 0.0, 0.0]\n",
    "\n",
    "sim.reset()\n",
    "T, X, U, anim = sim.simulate_and_animate(\n",
    "    t0=0.0,\n",
    "    x0=x0,\n",
    "    tf=t_final,\n",
    "    dt=dt,\n",
    "    controller=gravcomp_controller,\n",
    "    integrator=\"runge_kutta\",\n",
    ")\n",
    "\n",
    "html = HTML(anim.to_jshtml())\n",
    "display(html)\n",
    "plt.close()\n",
    "\n",
    "plot_timeseries(\n",
    "    T,\n",
    "    X,\n",
    "    U,\n",
    "    pos_y_lines=[0.0, np.pi],\n",
    "    tau_y_lines=[-torque_limit[1], torque_limit[1]],\n",
    ")"
   ]
  },
  {
   "cell_type": "markdown",
   "metadata": {},
   "source": [
    "Run the next cell to test the controller. Once it is working, try to manually change the configuration of the double pendulum, does it hold the new position?"
   ]
  },
  {
   "cell_type": "code",
   "execution_count": null,
   "metadata": {},
   "outputs": [],
   "source": [
    "T, X, U, U_des = sim.run_experiment(\n",
    "    tf=t_final,\n",
    "    dt=dt,\n",
    "    controller=gravcomp_controller,\n",
    "    experiment_type=\"DoublePendulum\",\n",
    "    motors = motors # [shoulder, elbow],\n",
    ")\n",
    "\n",
    "plot_timeseries(\n",
    "    T=T,\n",
    "    X=X,\n",
    "    U=U,\n",
    "    T_des=T,\n",
    "    U_des=U_des,\n",
    "    pos_y_lines=[0.0, np.pi],\n",
    "    tau_y_lines=[-torque_limit[1], torque_limit[1]],\n",
    ")"
   ]
  },
  {
   "cell_type": "markdown",
   "metadata": {},
   "source": [
    "#### PD + Gravity compensation\n",
    "\n",
    "Now that we have our gravity compensation controller working, we can combine it with a PD controller. This controller combines the nullifying of the effect of gravity with the PD controller to achieve smoother and more measured inputs. The control law can be stated as folows:\n",
    "\n",
    "$$\n",
    "u(t) = G(\\mathbf{q}) + \\left[ \\begin{array}{cccc} K_p & 0 & K_d & 0 \\\\ 0 & K_p & 0 & K_d\n",
    "\\end{array} \\right] \\mathbf{\\bar{x}}\n",
    "$$\n",
    "\n",
    "Run the two cells below to simulate this new controller. How does it compare to the previous PD controller?"
   ]
  },
  {
   "cell_type": "code",
   "execution_count": null,
   "metadata": {},
   "outputs": [],
   "source": [
    "from double_pendulum.controller.gravity_compensation.PID_gravity_compensation_controller import PIDGravityCompensationController\n",
    "\n",
    "Kp = 0.14\n",
    "Ki = 0.0\n",
    "Kd = 0.002\n",
    "\n",
    "gravcompPID_controller = PIDGravityCompensationController(\n",
    "    mass=mass,\n",
    "    length=length,\n",
    "    com=com,\n",
    "    damping=damping,\n",
    "    gravity=gravity,\n",
    "    inertia=inertia,\n",
    "    torque_limit=torque_limit,\n",
    "    dt=dt,\n",
    ")\n",
    "gravcompPID_controller.set_parameters(Kp=Kp, Ki=Ki, Kd=Kd)\n",
    "gravcompPID_controller.set_goal(goal)"
   ]
  },
  {
   "cell_type": "markdown",
   "metadata": {},
   "source": [
    "Run the next cell to simulate the controller"
   ]
  },
  {
   "cell_type": "code",
   "execution_count": null,
   "metadata": {},
   "outputs": [],
   "source": [
    "x0 = [0.0, 0.0, 0.0, 0.0]\n",
    "\n",
    "sim.reset()\n",
    "sim.set_desired_state(goal)\n",
    "\n",
    "gravcompPID_controller.init()\n",
    "T, X, U, anim = sim.simulate_and_animate(\n",
    "    t0=0.0,\n",
    "    x0=x0,\n",
    "    tf=t_final,\n",
    "    dt=dt,\n",
    "    controller=gravcompPID_controller,\n",
    "    integrator=\"runge_kutta\",\n",
    ")\n",
    "\n",
    "html = HTML(anim.to_jshtml())\n",
    "display(html)\n",
    "plt.close()\n",
    "\n",
    "plot_timeseries(\n",
    "    T,\n",
    "    X,\n",
    "    U,\n",
    "    pos_y_lines=[0.0, np.pi],\n",
    "    tau_y_lines=[-torque_limit[1], torque_limit[1]],\n",
    ")"
   ]
  },
  {
   "cell_type": "markdown",
   "metadata": {},
   "source": [
    "Now you may try the controller on the real system. Run the cell below to start the experiment. Try playing around with the gains of the controller. How does the behavior of the controller differ from the previous controller when different gains are used?"
   ]
  },
  {
   "cell_type": "code",
   "execution_count": null,
   "metadata": {},
   "outputs": [],
   "source": [
    "T, X, U, U_des = sim.run_experiment(\n",
    "    tf=t_final,\n",
    "    dt=dt,\n",
    "    controller=gravcompPID_controller,\n",
    "    experiment_type=\"DoublePendulum\",\n",
    "    motors = motors # [shoulder, elbow],\n",
    ")\n",
    "\n",
    "plot_timeseries(\n",
    "    T=T,\n",
    "    X=X,\n",
    "    U=U,\n",
    "    T_des=T,\n",
    "    U_des=U_des,\n",
    "    pos_y_lines=[0.0, np.pi],\n",
    "    tau_y_lines=[-torque_limit[1], torque_limit[1]],\n",
    ")"
   ]
  },
  {
   "cell_type": "code",
   "execution_count": null,
   "metadata": {},
   "outputs": [],
   "source": []
  }
 ],
 "metadata": {
  "deepnote_notebook_id": "b10fa26b5539406fb1d306de27f7b3e7",
  "deepnote_persisted_session": {
   "createdAt": "2025-04-04T07:35:33.712Z"
  },
  "kernelspec": {
   "display_name": "Python 3 (ipykernel)",
   "language": "python",
   "name": "python3"
  },
  "language_info": {
   "codemirror_mode": {
    "name": "ipython",
    "version": 3
   },
   "file_extension": ".py",
   "mimetype": "text/x-python",
   "name": "python",
   "nbconvert_exporter": "python",
   "pygments_lexer": "ipython3",
   "version": "3.12.7"
  }
 },
 "nbformat": 4,
 "nbformat_minor": 4
}
